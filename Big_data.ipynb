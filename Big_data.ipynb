{
 "cells": [
  {
   "cell_type": "code",
   "execution_count": 1,
   "metadata": {},
   "outputs": [],
   "source": [
    "import pandas as pd"
   ]
  },
  {
   "cell_type": "code",
   "execution_count": 2,
   "metadata": {},
   "outputs": [
    {
     "name": "stdout",
     "output_type": "stream",
     "text": [
      "Collecting openpyxl\n",
      "  Downloading openpyxl-3.1.5-py2.py3-none-any.whl.metadata (2.5 kB)\n",
      "Collecting et-xmlfile (from openpyxl)\n",
      "  Downloading et_xmlfile-1.1.0-py3-none-any.whl.metadata (1.8 kB)\n",
      "Downloading openpyxl-3.1.5-py2.py3-none-any.whl (250 kB)\n",
      "   ---------------------------------------- 0.0/250.9 kB ? eta -:--:--\n",
      "   - -------------------------------------- 10.2/250.9 kB ? eta -:--:--\n",
      "   - -------------------------------------- 10.2/250.9 kB ? eta -:--:--\n",
      "   --- ------------------------------------ 20.5/250.9 kB 81.9 kB/s eta 0:00:03\n",
      "   --- ------------------------------------ 20.5/250.9 kB 81.9 kB/s eta 0:00:03\n",
      "   ------ -------------------------------- 41.0/250.9 kB 178.6 kB/s eta 0:00:02\n",
      "   ------ -------------------------------- 41.0/250.9 kB 178.6 kB/s eta 0:00:02\n",
      "   ------ -------------------------------- 41.0/250.9 kB 178.6 kB/s eta 0:00:02\n",
      "   -------------- ------------------------ 92.2/250.9 kB 238.1 kB/s eta 0:00:01\n",
      "   ------------------ ------------------- 122.9/250.9 kB 300.4 kB/s eta 0:00:01\n",
      "   ------------------------ ------------- 163.8/250.9 kB 350.7 kB/s eta 0:00:01\n",
      "   ------------------------------- ------ 204.8/250.9 kB 401.2 kB/s eta 0:00:01\n",
      "   -------------------------------------- 250.9/250.9 kB 440.0 kB/s eta 0:00:00\n",
      "Downloading et_xmlfile-1.1.0-py3-none-any.whl (4.7 kB)\n",
      "Installing collected packages: et-xmlfile, openpyxl\n",
      "Successfully installed et-xmlfile-1.1.0 openpyxl-3.1.5\n",
      "Note: you may need to restart the kernel to use updated packages.\n"
     ]
    },
    {
     "name": "stderr",
     "output_type": "stream",
     "text": [
      "\n",
      "[notice] A new release of pip is available: 24.0 -> 24.2\n",
      "[notice] To update, run: C:\\Users\\HP\\AppData\\Local\\Microsoft\\WindowsApps\\PythonSoftwareFoundation.Python.3.11_qbz5n2kfra8p0\\python.exe -m pip install --upgrade pip\n"
     ]
    }
   ],
   "source": [
    "pip install openpyxl"
   ]
  },
  {
   "cell_type": "code",
   "execution_count": 11,
   "metadata": {},
   "outputs": [],
   "source": [
    "export_ = pd.read_excel(r'C:\\Big data\\stat_export2566.xlsx')\n",
    "export_ = export_[0:5000]"
   ]
  },
  {
   "cell_type": "code",
   "execution_count": 6,
   "metadata": {},
   "outputs": [
    {
     "data": {
      "text/plain": [
       "Index(['วัน/เดือน/ปี', 'วัน', 'เดือน', 'ปี', 'ด่านตรวจประมง', 'ประเทศ',\n",
       "       'การขนส่ง', 'ชื่อไทย', 'ชื่อสามัญ', 'ชื่อวิทยาศาสตร์', 'กลุ่มสัตว์น้ำ',\n",
       "       'แหล่งน้ำ', 'ลักษณะ', 'จำนวน/ปริมาณ', 'หน่วย', 'ปริมาณ', 'หน่วย.1',\n",
       "       'มูลค่า (บาท)'],\n",
       "      dtype='object')"
      ]
     },
     "execution_count": 6,
     "metadata": {},
     "output_type": "execute_result"
    }
   ],
   "source": [
    "export_.columns"
   ]
  },
  {
   "cell_type": "code",
   "execution_count": 12,
   "metadata": {},
   "outputs": [
    {
     "data": {
      "text/plain": [
       "ประเทศ\n",
       "สหรัฐอเมริกา    1069\n",
       "มาเลเซีย         868\n",
       "ฮ่องกง           334\n",
       "ญี่ปุ่น          310\n",
       "กัมพูชา          309\n",
       "                ... \n",
       "ลัตเวีย            1\n",
       "โปแลนด์            1\n",
       "คูราเซา            1\n",
       "สเปน               1\n",
       "คองโก              1\n",
       "Name: count, Length: 78, dtype: int64"
      ]
     },
     "execution_count": 12,
     "metadata": {},
     "output_type": "execute_result"
    }
   ],
   "source": [
    "export_['ประเทศ'].value_counts()"
   ]
  },
  {
   "cell_type": "code",
   "execution_count": 13,
   "metadata": {},
   "outputs": [
    {
     "data": {
      "text/plain": [
       "กลุ่มสัตว์น้ำ\n",
       "ปลา              3802\n",
       "กุ้ง              634\n",
       "หอย               227\n",
       "หมึก              182\n",
       "สัตว์น้ำอื่นๆ      81\n",
       "ปู                 63\n",
       "จระเข้             11\n",
       "Name: count, dtype: int64"
      ]
     },
     "execution_count": 13,
     "metadata": {},
     "output_type": "execute_result"
    }
   ],
   "source": [
    "export_['กลุ่มสัตว์น้ำ'].value_counts()"
   ]
  },
  {
   "cell_type": "code",
   "execution_count": 14,
   "metadata": {},
   "outputs": [],
   "source": [
    "def month_to_quarter(month):\n",
    "    return f'Q{(month - 1) // 3 + 1}'"
   ]
  },
  {
   "cell_type": "code",
   "execution_count": 39,
   "metadata": {},
   "outputs": [
    {
     "name": "stdout",
     "output_type": "stream",
     "text": [
      "ชื่อคอลัมน์ใน Transportation_: ['เดือน', 'ประเทศ', 'การขนส่ง', 'มูลค่า (บาท)', 'กลุ่มสัตว์น้ำ', 'ปริมาณ', 'หน่วย']\n",
      "ชื่อคอลัมน์ใน group_: ['เดือน', 'ประเทศ', 'การขนส่ง', 'มูลค่า (บาท)', 'กลุ่มสัตว์น้ำ', 'ปริมาณ', 'หน่วย']\n"
     ]
    }
   ],
   "source": [
    "import pandas as pd\n",
    "\n",
    "# อ่านไฟล์ CSV\n",
    "Transportation_ = pd.read_csv(r'C:\\Big data\\m1.csv')  # ชื่อไฟล์ CSV แรก\n",
    "group_ = pd.read_csv(r'C:\\Big data\\m2.csv')  # ชื่อไฟล์ CSV ที่สอง\n",
    "\n",
    "# ลบช่องว่างจากชื่อคอลัมน์\n",
    "Transportation_.columns = Transportation_.columns.str.strip()\n",
    "group_.columns = group_.columns.str.strip()\n",
    "\n",
    "\n",
    "# แสดงชื่อคอลัมน์\n",
    "print(\"ชื่อคอลัมน์ใน Transportation_:\", Transportation_.columns.tolist())\n",
    "print(\"ชื่อคอลัมน์ใน group_:\", group_.columns.tolist())\n",
    "\n"
   ]
  },
  {
   "cell_type": "code",
   "execution_count": 40,
   "metadata": {},
   "outputs": [
    {
     "name": "stdout",
     "output_type": "stream",
     "text": [
      "   เดือน     ประเทศ การขนส่ง  มูลค่า (บาท) กลุ่มสัตว์น้ำ   ปริมาณ หน่วย\n",
      "0      1   ฝรั่งเศส     เรือ    479073.667           ปลา   6048.0   KGM\n",
      "1      1  โดมินิกัน     เรือ   2010616.875           ปลา  13632.0   KGM\n",
      "2      1    ญี่ปุ่น     เรือ   1283574.240           ปลา  36000.0   KGM\n",
      "3      1    ญี่ปุ่น     เรือ   1797377.100           ปลา  14361.6   KGM\n",
      "4      1    ไต้หวัน     เรือ   4041182.270          กุ้ง  10994.1   KGM\n"
     ]
    }
   ],
   "source": [
    "# รวมข้อมูล\n",
    "merged_df = pd.merge(Transportation_, group_, on=['เดือน', 'ประเทศ', 'การขนส่ง', 'กลุ่มสัตว์น้ำ', 'ปริมาณ', 'หน่วย', 'มูลค่า (บาท)'], how='inner')\n",
    "print(merged_df.head())"
   ]
  },
  {
   "cell_type": "code",
   "execution_count": 42,
   "metadata": {},
   "outputs": [],
   "source": [
    "\n",
    "# บันทึกไฟล์ CSV ที่รวมแล้ว\n",
    "merged_df.to_csv('merged_file.csv', index=False)"
   ]
  }
 ],
 "metadata": {
  "kernelspec": {
   "display_name": "Python 3",
   "language": "python",
   "name": "python3"
  },
  "language_info": {
   "codemirror_mode": {
    "name": "ipython",
    "version": 3
   },
   "file_extension": ".py",
   "mimetype": "text/x-python",
   "name": "python",
   "nbconvert_exporter": "python",
   "pygments_lexer": "ipython3",
   "version": "3.11.9"
  }
 },
 "nbformat": 4,
 "nbformat_minor": 2
}
